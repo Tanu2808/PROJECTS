{
 "cells": [
  {
   "cell_type": "code",
   "execution_count": 25,
   "id": "1614ca66",
   "metadata": {},
   "outputs": [
    {
     "name": "stdout",
     "output_type": "stream",
     "text": [
      "<class 'pandas.core.frame.DataFrame'>\n",
      "RangeIndex: 7043 entries, 0 to 7042\n",
      "Data columns (total 21 columns):\n",
      " #   Column            Non-Null Count  Dtype  \n",
      "---  ------            --------------  -----  \n",
      " 0   customerID        7043 non-null   object \n",
      " 1   gender            7043 non-null   object \n",
      " 2   SeniorCitizen     7043 non-null   int64  \n",
      " 3   Partner           7043 non-null   object \n",
      " 4   Dependents        7043 non-null   object \n",
      " 5   tenure            7043 non-null   int64  \n",
      " 6   PhoneService      7043 non-null   object \n",
      " 7   MultipleLines     7043 non-null   object \n",
      " 8   InternetService   7043 non-null   object \n",
      " 9   OnlineSecurity    7043 non-null   object \n",
      " 10  OnlineBackup      7043 non-null   object \n",
      " 11  DeviceProtection  7043 non-null   object \n",
      " 12  TechSupport       7043 non-null   object \n",
      " 13  StreamingTV       7043 non-null   object \n",
      " 14  StreamingMovies   7043 non-null   object \n",
      " 15  Contract          7043 non-null   object \n",
      " 16  PaperlessBilling  7043 non-null   object \n",
      " 17  PaymentMethod     7043 non-null   object \n",
      " 18  MonthlyCharges    7043 non-null   float64\n",
      " 19  TotalCharges      7043 non-null   object \n",
      " 20  Churn             7043 non-null   object \n",
      "dtypes: float64(1), int64(2), object(18)\n",
      "memory usage: 1.1+ MB\n"
     ]
    }
   ],
   "source": [
    "import pandas as pd\n",
    "import numpy as np\n",
    "from sklearn.preprocessing import StandardScaler\n",
    "dataFrame = pd.read_csv(\"d:/Programming Projects/PROJECTS_/Customer Churn Prediction/Data/WA_Fn-UseC_-Telco-Customer-Churn.csv\")\n",
    "dataFrame.shape\n",
    "dataFrame.head()\n",
    "dataFrame.info()\n",
    "dataFrame.describe()\n",
    "\n",
    "dataFrame.isnull().sum()\n",
    "dataFrame.drop(columns = ['customerID'], inplace = True)\n",
    "dataFrame.isnull().sum()\n",
    "dataFrame['TotalCharges'] = pd.to_numeric(dataFrame['TotalCharges'], errors = 'coerce')\n",
    "dataFrame['TotalCharges'] = dataFrame['TotalCharges'].fillna(dataFrame['TotalCharges'].median())\n",
    "dataFrame['SeniorCitizen'] = dataFrame['SeniorCitizen'].astype(int)\n",
    "dataFrame = pd.get_dummies(dataFrame, drop_first = True)\n",
    "scaler = StandardScaler()\n",
    "num_columns = ['tenure','MonthlyCharges','TotalCharges']\n",
    "dataFrame[num_columns] = scaler.fit_transform(dataFrame[num_columns])\n",
    "Q1 = dataFrame[num_columns].quantile(0.25)\n",
    "Q3 = dataFrame[num_columns].quantile(0.75)\n",
    "IQR = Q3 - Q1\n",
    "\n",
    "dataFrame = dataFrame[~((dataFrame[num_columns] < (Q1 - (1.5 * IQR))) | (dataFrame[num_columns] > (Q3 + (1.5 * IQR)))).any(axis = 1)]\n",
    "dataFrame.to_csv(\"d:/Programming Projects/PROJECTS_/Customer Churn Prediction/Data/Telco_Customer_Chern_Cleaned.csv\", index = False)\n",
    "\n"
   ]
  },
  {
   "cell_type": "code",
   "execution_count": null,
   "id": "882c9521",
   "metadata": {},
   "outputs": [],
   "source": []
  }
 ],
 "metadata": {
  "kernelspec": {
   "display_name": "venv",
   "language": "python",
   "name": "python3"
  },
  "language_info": {
   "codemirror_mode": {
    "name": "ipython",
    "version": 3
   },
   "file_extension": ".py",
   "mimetype": "text/x-python",
   "name": "python",
   "nbconvert_exporter": "python",
   "pygments_lexer": "ipython3",
   "version": "3.13.5"
  }
 },
 "nbformat": 4,
 "nbformat_minor": 5
}
